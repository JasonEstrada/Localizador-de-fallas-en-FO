{
 "cells": [
  {
   "cell_type": "code",
   "execution_count": 18,
   "metadata": {},
   "outputs": [],
   "source": [
    "import math"
   ]
  },
  {
   "cell_type": "code",
   "execution_count": 23,
   "metadata": {},
   "outputs": [],
   "source": [
    "# Datos de entrada\n",
    "t_vuelo = 9.5  # Tiempo de vuelo de la señal medido en ns\n",
    "A_incidente = -23  # Amplitud de la señal reflejada medida en dBm\n",
    "alpha = 0.2  # Atenuación en dB/km\n",
    "R = 0.5  # Reflectividad de la falla\n",
    "v = 3e8  # Velocidad de la luz en m/s\n",
    "\n",
    "# Estimación inicial de la distancia en kilómetros\n",
    "d0 = 2.0  # Puedes ajustar esto según tus suposiciones iniciales\n",
    "\n",
    "# Tolerancia para la convergencia\n",
    "tolerancia = 1e-5\n",
    "\n",
    "# Número máximo de iteraciones\n",
    "max_iteraciones = 100\n"
   ]
  },
  {
   "cell_type": "code",
   "execution_count": 27,
   "metadata": {},
   "outputs": [
    {
     "ename": "OverflowError",
     "evalue": "(34, 'Result too large')",
     "output_type": "error",
     "traceback": [
      "\u001b[1;31m---------------------------------------------------------------------------\u001b[0m",
      "\u001b[1;31mOverflowError\u001b[0m                             Traceback (most recent call last)",
      "\u001b[1;32mc:\\Users\\F-E-R\\OneDrive\\Universidad\\2023-2\\Soluciones\\Localizador-de-fallas-en-FO\\NB.ipynb Cell 3\u001b[0m line \u001b[0;36m4\n\u001b[0;32m      <a href='vscode-notebook-cell:/c%3A/Users/F-E-R/OneDrive/Universidad/2023-2/Soluciones/Localizador-de-fallas-en-FO/NB.ipynb#W2sZmlsZQ%3D%3D?line=1'>2</a>\u001b[0m \u001b[39mfor\u001b[39;00m iteracion \u001b[39min\u001b[39;00m \u001b[39mrange\u001b[39m(max_iteraciones):\n\u001b[0;32m      <a href='vscode-notebook-cell:/c%3A/Users/F-E-R/OneDrive/Universidad/2023-2/Soluciones/Localizador-de-fallas-en-FO/NB.ipynb#W2sZmlsZQ%3D%3D?line=2'>3</a>\u001b[0m     t \u001b[39m=\u001b[39m d0 \u001b[39m/\u001b[39m v\n\u001b[1;32m----> <a href='vscode-notebook-cell:/c%3A/Users/F-E-R/OneDrive/Universidad/2023-2/Soluciones/Localizador-de-fallas-en-FO/NB.ipynb#W2sZmlsZQ%3D%3D?line=3'>4</a>\u001b[0m     A \u001b[39m=\u001b[39m A_incidente \u001b[39m*\u001b[39m R \u001b[39m*\u001b[39m math\u001b[39m.\u001b[39;49me\u001b[39m*\u001b[39;49m\u001b[39m*\u001b[39;49m(\u001b[39m-\u001b[39;49malpha\u001b[39m*\u001b[39;49md0)\n\u001b[0;32m      <a href='vscode-notebook-cell:/c%3A/Users/F-E-R/OneDrive/Universidad/2023-2/Soluciones/Localizador-de-fallas-en-FO/NB.ipynb#W2sZmlsZQ%3D%3D?line=4'>5</a>\u001b[0m     error_tiempo \u001b[39m=\u001b[39m t_vuelo \u001b[39m-\u001b[39m t\n\u001b[0;32m      <a href='vscode-notebook-cell:/c%3A/Users/F-E-R/OneDrive/Universidad/2023-2/Soluciones/Localizador-de-fallas-en-FO/NB.ipynb#W2sZmlsZQ%3D%3D?line=5'>6</a>\u001b[0m     error_amplitud \u001b[39m=\u001b[39m A_incidente \u001b[39m-\u001b[39m A\n",
      "\u001b[1;31mOverflowError\u001b[0m: (34, 'Result too large')"
     ]
    }
   ],
   "source": [
    "# Algoritmo de búsqueda de raíces (Newton-Raphson)\n",
    "for iteracion in range(max_iteraciones):\n",
    "    t = d0 / v\n",
    "    A = A_incidente * R * math.e**(-alpha*d0)\n",
    "    error_tiempo = t_vuelo - t\n",
    "    error_amplitud = A_incidente - A\n",
    "\n",
    "    derivada_error_tiempo = -1 / v\n",
    "    derivada_error_amplitud = -alpha * A\n",
    "\n",
    "    delta_distancia = (error_tiempo / derivada_error_tiempo + error_amplitud / derivada_error_amplitud)\n",
    "    d0 += delta_distancia\n",
    "\n",
    "    # Verificar la convergencia\n",
    "    if abs(delta_distancia) < tolerancia:\n",
    "        break\n",
    "\n",
    "# Resultado\n",
    "if iteracion < max_iteraciones:\n",
    "    print(f\"La ubicación de la falla se encuentra a {distancia_inicial} kilómetros del punto de origen.\")\n",
    "else:\n",
    "    print(\"El algoritmo no ha convergido después de un número máximo de iteraciones.\")"
   ]
  }
 ],
 "metadata": {
  "kernelspec": {
   "display_name": "Python 3",
   "language": "python",
   "name": "python3"
  },
  "language_info": {
   "codemirror_mode": {
    "name": "ipython",
    "version": 3
   },
   "file_extension": ".py",
   "mimetype": "text/x-python",
   "name": "python",
   "nbconvert_exporter": "python",
   "pygments_lexer": "ipython3",
   "version": "3.11.2"
  }
 },
 "nbformat": 4,
 "nbformat_minor": 2
}
